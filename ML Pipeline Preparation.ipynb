{
 "cells": [
  {
   "cell_type": "markdown",
   "metadata": {},
   "source": [
    "# ML Pipeline Preparation\n",
    "Follow the instructions below to help you create your ML pipeline.\n",
    "### 1. Import libraries and load data from database.\n",
    "- Import Python libraries\n",
    "- Load dataset from database with [`read_sql_table`](https://pandas.pydata.org/pandas-docs/stable/generated/pandas.read_sql_table.html)\n",
    "- Define feature and target variables X and Y"
   ]
  },
  {
   "cell_type": "code",
   "execution_count": 1,
   "metadata": {},
   "outputs": [
    {
     "name": "stderr",
     "output_type": "stream",
     "text": [
      "[nltk_data] Downloading package stopwords to\n",
      "[nltk_data]     C:\\Users\\semer\\AppData\\Roaming\\nltk_data...\n",
      "[nltk_data]   Package stopwords is already up-to-date!\n",
      "[nltk_data] Downloading package wordnet to\n",
      "[nltk_data]     C:\\Users\\semer\\AppData\\Roaming\\nltk_data...\n",
      "[nltk_data]   Package wordnet is already up-to-date!\n",
      "[nltk_data] Downloading package punkt to\n",
      "[nltk_data]     C:\\Users\\semer\\AppData\\Roaming\\nltk_data...\n",
      "[nltk_data]   Package punkt is already up-to-date!\n",
      "[nltk_data] Downloading package punkt_tab to\n",
      "[nltk_data]     C:\\Users\\semer\\AppData\\Roaming\\nltk_data...\n",
      "[nltk_data]   Package punkt_tab is already up-to-date!\n"
     ]
    }
   ],
   "source": [
    "# import libraries\n",
    "from sqlalchemy import create_engine\n",
    "import pandas as pd\n",
    "from nltk import word_tokenize, sent_tokenize\n",
    "import re\n",
    "from sklearn.pipeline import Pipeline\n",
    "import nltk\n",
    "from nltk.corpus import stopwords\n",
    "from nltk.stem.wordnet import WordNetLemmatizer\n",
    "from sklearn.multioutput import MultiOutputClassifier\n",
    "from sklearn.ensemble import RandomForestClassifier\n",
    "from sklearn.feature_extraction.text import CountVectorizer, TfidfTransformer\n",
    "from sklearn.model_selection import train_test_split\n",
    "nltk.download('stopwords')\n",
    "nltk.download('wordnet') \n",
    "nltk.download('punkt')\n",
    "nltk.download('punkt_tab')\n",
    "from sklearn.metrics import f1_score, precision_score, recall_score, classification_report\n",
    "import numpy as np\n",
    "from sklearn.model_selection import GridSearchCV\n",
    "from joblib import parallel_backend\n",
    "import pickle"
   ]
  },
  {
   "cell_type": "code",
   "execution_count": 2,
   "metadata": {},
   "outputs": [],
   "source": [
    "# load data from database\n",
    "engine = create_engine('sqlite:///DisasterResponse.db')\n",
    "with engine.connect() as conn, conn.begin():  \n",
    "    df = pd.read_sql_table(\"CleanData\", conn) \n",
    "X = df['message']\n",
    "Y = df[df.columns.difference(['id', 'message', 'original', 'genre'])]"
   ]
  },
  {
   "cell_type": "markdown",
   "metadata": {},
   "source": [
    "### 2. Write a tokenization function to process your text data"
   ]
  },
  {
   "cell_type": "code",
   "execution_count": 3,
   "metadata": {},
   "outputs": [],
   "source": [
    "def tokenize(text):\n",
    "    text = text.lower().strip()\n",
    "    text = re.sub(r'[^a-zA-Z0-9]', ' ', text)\n",
    "    words = word_tokenize(text)\n",
    "    words = [w for w in words if w not in stopwords.words(\"english\")]\n",
    "    cleanedtokens = [WordNetLemmatizer().lemmatize(w) for w in words]\n",
    "    return cleanedtokens"
   ]
  },
  {
   "cell_type": "markdown",
   "metadata": {},
   "source": [
    "### 3. Build a machine learning pipeline\n",
    "This machine pipeline should take in the `message` column as input and output classification results on the other 36 categories in the dataset. You may find the [MultiOutputClassifier](http://scikit-learn.org/stable/modules/generated/sklearn.multioutput.MultiOutputClassifier.html) helpful for predicting multiple target variables."
   ]
  },
  {
   "cell_type": "code",
   "execution_count": 4,
   "metadata": {},
   "outputs": [],
   "source": [
    "pipeline =  Pipeline([\n",
    "    ('features',CountVectorizer(tokenizer=tokenize)),\n",
    "    ('clf', MultiOutputClassifier(RandomForestClassifier()))\n",
    "])"
   ]
  },
  {
   "cell_type": "markdown",
   "metadata": {},
   "source": [
    "### 4. Train pipeline\n",
    "- Split data into train and test sets\n",
    "- Train pipeline"
   ]
  },
  {
   "cell_type": "code",
   "execution_count": 5,
   "metadata": {},
   "outputs": [
    {
     "name": "stderr",
     "output_type": "stream",
     "text": [
      "C:\\Research\\GitHub\\udacity-data-engineering\\.venv\\Lib\\site-packages\\sklearn\\feature_extraction\\text.py:517: UserWarning: The parameter 'token_pattern' will not be used since 'tokenizer' is not None'\n",
      "  warnings.warn(\n"
     ]
    }
   ],
   "source": [
    "with parallel_backend('threading', n_jobs=4):\n",
    "    X_train, X_test, y_train, y_test = train_test_split(X, Y)\n",
    "    pipeline.fit(X_train, y_train)\n",
    "pickle.dump(pipeline, open('baseline.pkl', 'wb'))"
   ]
  },
  {
   "cell_type": "markdown",
   "metadata": {},
   "source": [
    "### 5. Test your model\n",
    "Report the f1 score, precision and recall for each output category of the dataset. You can do this by iterating through the columns and calling sklearn's `classification_report` on each."
   ]
  },
  {
   "cell_type": "code",
   "execution_count": 6,
   "metadata": {},
   "outputs": [
    {
     "name": "stdout",
     "output_type": "stream",
     "text": [
      "              precision    recall  f1-score   support\n",
      "\n",
      "           0       0.99      1.00      0.99      6479\n",
      "           1       0.00      0.00      0.00        75\n",
      "\n",
      "    accuracy                           0.99      6554\n",
      "   macro avg       0.49      0.50      0.50      6554\n",
      "weighted avg       0.98      0.99      0.98      6554\n",
      "\n",
      "              precision    recall  f1-score   support\n",
      "\n",
      "           0       0.79      0.85      0.82      3866\n",
      "           1       0.75      0.68      0.72      2688\n",
      "\n",
      "    accuracy                           0.78      6554\n",
      "   macro avg       0.77      0.76      0.77      6554\n",
      "weighted avg       0.78      0.78      0.78      6554\n",
      "\n",
      "              precision    recall  f1-score   support\n",
      "\n",
      "           0       0.96      1.00      0.98      6235\n",
      "           1       0.79      0.19      0.30       319\n",
      "\n",
      "    accuracy                           0.96      6554\n",
      "   macro avg       0.87      0.59      0.64      6554\n",
      "weighted avg       0.95      0.96      0.95      6554\n",
      "\n",
      "              precision    recall  f1-score   support\n",
      "\n",
      "           0       1.00      1.00      1.00      6554\n",
      "\n",
      "    accuracy                           1.00      6554\n",
      "   macro avg       1.00      1.00      1.00      6554\n",
      "weighted avg       1.00      1.00      1.00      6554\n",
      "\n",
      "              precision    recall  f1-score   support\n",
      "\n",
      "           0       0.99      1.00      0.99      6464\n",
      "           1       0.60      0.17      0.26        90\n",
      "\n",
      "    accuracy                           0.99      6554\n",
      "   macro avg       0.79      0.58      0.63      6554\n",
      "weighted avg       0.98      0.99      0.98      6554\n",
      "\n",
      "              precision    recall  f1-score   support\n",
      "\n",
      "           0       0.98      1.00      0.99      6429\n",
      "           1       0.72      0.10      0.18       125\n",
      "\n",
      "    accuracy                           0.98      6554\n",
      "   macro avg       0.85      0.55      0.59      6554\n",
      "weighted avg       0.98      0.98      0.98      6554\n",
      "\n",
      "              precision    recall  f1-score   support\n",
      "\n",
      "           0       0.97      1.00      0.98      6285\n",
      "           1       0.80      0.18      0.29       269\n",
      "\n",
      "    accuracy                           0.96      6554\n",
      "   macro avg       0.88      0.59      0.64      6554\n",
      "weighted avg       0.96      0.96      0.95      6554\n",
      "\n",
      "              precision    recall  f1-score   support\n",
      "\n",
      "           0       0.86      0.97      0.91      5261\n",
      "           1       0.76      0.37      0.50      1293\n",
      "\n",
      "    accuracy                           0.85      6554\n",
      "   macro avg       0.81      0.67      0.71      6554\n",
      "weighted avg       0.84      0.85      0.83      6554\n",
      "\n",
      "              precision    recall  f1-score   support\n",
      "\n",
      "           0       0.97      0.99      0.98      5946\n",
      "           1       0.89      0.72      0.79       608\n",
      "\n",
      "    accuracy                           0.97      6554\n",
      "   macro avg       0.93      0.85      0.89      6554\n",
      "weighted avg       0.96      0.97      0.96      6554\n",
      "\n",
      "              precision    recall  f1-score   support\n",
      "\n",
      "           0       0.98      1.00      0.99      6417\n",
      "           1       0.70      0.05      0.10       137\n",
      "\n",
      "    accuracy                           0.98      6554\n",
      "   macro avg       0.84      0.53      0.54      6554\n",
      "weighted avg       0.97      0.98      0.97      6554\n",
      "\n",
      "              precision    recall  f1-score   support\n",
      "\n",
      "           0       0.99      1.00      0.99      6477\n",
      "           1       0.50      0.01      0.03        77\n",
      "\n",
      "    accuracy                           0.99      6554\n",
      "   macro avg       0.74      0.51      0.51      6554\n",
      "weighted avg       0.98      0.99      0.98      6554\n",
      "\n",
      "              precision    recall  f1-score   support\n",
      "\n",
      "           0       0.95      1.00      0.97      6001\n",
      "           1       0.90      0.49      0.63       553\n",
      "\n",
      "    accuracy                           0.95      6554\n",
      "   macro avg       0.93      0.74      0.80      6554\n",
      "weighted avg       0.95      0.95      0.95      6554\n",
      "\n",
      "              precision    recall  f1-score   support\n",
      "\n",
      "           0       0.95      0.98      0.97      5793\n",
      "           1       0.83      0.59      0.69       761\n",
      "\n",
      "    accuracy                           0.94      6554\n",
      "   macro avg       0.89      0.79      0.83      6554\n",
      "weighted avg       0.93      0.94      0.93      6554\n",
      "\n",
      "              precision    recall  f1-score   support\n",
      "\n",
      "           0       0.99      1.00      0.99      6484\n",
      "           1       1.00      0.01      0.03        70\n",
      "\n",
      "    accuracy                           0.99      6554\n",
      "   macro avg       0.99      0.51      0.51      6554\n",
      "weighted avg       0.99      0.99      0.98      6554\n",
      "\n",
      "              precision    recall  f1-score   support\n",
      "\n",
      "           0       0.94      1.00      0.97      6155\n",
      "           1       0.44      0.02      0.03       399\n",
      "\n",
      "    accuracy                           0.94      6554\n",
      "   macro avg       0.69      0.51      0.50      6554\n",
      "weighted avg       0.91      0.94      0.91      6554\n",
      "\n",
      "              precision    recall  f1-score   support\n",
      "\n",
      "           0       0.93      1.00      0.96      6043\n",
      "           1       0.70      0.11      0.19       511\n",
      "\n",
      "    accuracy                           0.93      6554\n",
      "   macro avg       0.81      0.55      0.58      6554\n",
      "weighted avg       0.91      0.93      0.90      6554\n",
      "\n",
      "              precision    recall  f1-score   support\n",
      "\n",
      "           0       0.96      1.00      0.98      6245\n",
      "           1       0.64      0.12      0.20       309\n",
      "\n",
      "    accuracy                           0.96      6554\n",
      "   macro avg       0.80      0.56      0.59      6554\n",
      "weighted avg       0.94      0.96      0.94      6554\n",
      "\n",
      "              precision    recall  f1-score   support\n",
      "\n",
      "           0       0.97      1.00      0.98      6346\n",
      "           1       0.62      0.08      0.14       208\n",
      "\n",
      "    accuracy                           0.97      6554\n",
      "   macro avg       0.79      0.54      0.56      6554\n",
      "weighted avg       0.96      0.97      0.96      6554\n",
      "\n",
      "              precision    recall  f1-score   support\n",
      "\n",
      "           0       0.99      1.00      0.99      6471\n",
      "           1       0.67      0.02      0.05        83\n",
      "\n",
      "    accuracy                           0.99      6554\n",
      "   macro avg       0.83      0.51      0.52      6554\n",
      "weighted avg       0.98      0.99      0.98      6554\n",
      "\n",
      "              precision    recall  f1-score   support\n",
      "\n",
      "           0       0.98      1.00      0.99      6394\n",
      "           1       0.57      0.03      0.05       160\n",
      "\n",
      "    accuracy                           0.98      6554\n",
      "   macro avg       0.77      0.51      0.52      6554\n",
      "weighted avg       0.97      0.98      0.96      6554\n",
      "\n",
      "              precision    recall  f1-score   support\n",
      "\n",
      "           0       1.00      1.00      1.00      6535\n",
      "           1       0.00      0.00      0.00        19\n",
      "\n",
      "    accuracy                           1.00      6554\n",
      "   macro avg       0.50      0.50      0.50      6554\n",
      "weighted avg       0.99      1.00      1.00      6554\n",
      "\n",
      "              precision    recall  f1-score   support\n",
      "\n",
      "           0       0.87      0.99      0.93      5679\n",
      "           1       0.54      0.06      0.11       875\n",
      "\n",
      "    accuracy                           0.87      6554\n",
      "   macro avg       0.71      0.53      0.52      6554\n",
      "weighted avg       0.83      0.87      0.82      6554\n",
      "\n",
      "              precision    recall  f1-score   support\n",
      "\n",
      "           0       0.96      1.00      0.98      6280\n",
      "           1       0.30      0.01      0.02       274\n",
      "\n",
      "    accuracy                           0.96      6554\n",
      "   macro avg       0.63      0.50      0.50      6554\n",
      "weighted avg       0.93      0.96      0.94      6554\n",
      "\n",
      "              precision    recall  f1-score   support\n",
      "\n",
      "           0       0.95      1.00      0.97      6201\n",
      "           1       0.56      0.05      0.09       353\n",
      "\n",
      "    accuracy                           0.95      6554\n",
      "   macro avg       0.76      0.52      0.53      6554\n",
      "weighted avg       0.93      0.95      0.93      6554\n",
      "\n",
      "              precision    recall  f1-score   support\n",
      "\n",
      "           0       0.97      1.00      0.98      6347\n",
      "           1       0.60      0.01      0.03       207\n",
      "\n",
      "    accuracy                           0.97      6554\n",
      "   macro avg       0.78      0.51      0.51      6554\n",
      "weighted avg       0.96      0.97      0.95      6554\n",
      "\n",
      "              precision    recall  f1-score   support\n",
      "\n",
      "           0       0.70      0.44      0.54      1548\n",
      "           1       0.85      0.94      0.89      4964\n",
      "           2       0.22      0.36      0.27        42\n",
      "\n",
      "    accuracy                           0.82      6554\n",
      "   macro avg       0.59      0.58      0.57      6554\n",
      "weighted avg       0.81      0.82      0.80      6554\n",
      "\n",
      "              precision    recall  f1-score   support\n",
      "\n",
      "           0       0.91      0.97      0.94      5422\n",
      "           1       0.80      0.52      0.63      1132\n",
      "\n",
      "    accuracy                           0.89      6554\n",
      "   macro avg       0.85      0.74      0.78      6554\n",
      "weighted avg       0.89      0.89      0.88      6554\n",
      "\n",
      "              precision    recall  f1-score   support\n",
      "\n",
      "           0       0.97      1.00      0.99      6367\n",
      "           1       1.00      0.03      0.06       187\n",
      "\n",
      "    accuracy                           0.97      6554\n",
      "   macro avg       0.99      0.52      0.52      6554\n",
      "weighted avg       0.97      0.97      0.96      6554\n",
      "\n",
      "              precision    recall  f1-score   support\n",
      "\n",
      "           0       0.98      1.00      0.99      6448\n",
      "           1       0.25      0.01      0.02       106\n",
      "\n",
      "    accuracy                           0.98      6554\n",
      "   macro avg       0.62      0.50      0.50      6554\n",
      "weighted avg       0.97      0.98      0.98      6554\n",
      "\n",
      "              precision    recall  f1-score   support\n",
      "\n",
      "           0       0.95      0.99      0.97      6009\n",
      "           1       0.82      0.40      0.54       545\n",
      "\n",
      "    accuracy                           0.94      6554\n",
      "   macro avg       0.88      0.70      0.75      6554\n",
      "weighted avg       0.94      0.94      0.93      6554\n",
      "\n",
      "              precision    recall  f1-score   support\n",
      "\n",
      "           0       1.00      1.00      1.00      6532\n",
      "           1       0.00      0.00      0.00        22\n",
      "\n",
      "    accuracy                           1.00      6554\n",
      "   macro avg       0.50      0.50      0.50      6554\n",
      "weighted avg       0.99      1.00      0.99      6554\n",
      "\n",
      "              precision    recall  f1-score   support\n",
      "\n",
      "           0       0.96      0.98      0.97      5950\n",
      "           1       0.79      0.56      0.66       604\n",
      "\n",
      "    accuracy                           0.95      6554\n",
      "   macro avg       0.87      0.77      0.81      6554\n",
      "weighted avg       0.94      0.95      0.94      6554\n",
      "\n",
      "              precision    recall  f1-score   support\n",
      "\n",
      "           0       0.99      1.00      1.00      6508\n",
      "           1       1.00      0.02      0.04        46\n",
      "\n",
      "    accuracy                           0.99      6554\n",
      "   macro avg       1.00      0.51      0.52      6554\n",
      "weighted avg       0.99      0.99      0.99      6554\n",
      "\n",
      "              precision    recall  f1-score   support\n",
      "\n",
      "           0       0.96      1.00      0.98      6251\n",
      "           1       0.62      0.05      0.10       303\n",
      "\n",
      "    accuracy                           0.95      6554\n",
      "   macro avg       0.79      0.53      0.54      6554\n",
      "weighted avg       0.94      0.95      0.94      6554\n",
      "\n",
      "              precision    recall  f1-score   support\n",
      "\n",
      "           0       0.96      0.99      0.98      6146\n",
      "           1       0.82      0.42      0.55       408\n",
      "\n",
      "    accuracy                           0.96      6554\n",
      "   macro avg       0.89      0.71      0.76      6554\n",
      "weighted avg       0.95      0.96      0.95      6554\n",
      "\n",
      "              precision    recall  f1-score   support\n",
      "\n",
      "           0       0.89      0.95      0.92      4738\n",
      "           1       0.85      0.68      0.76      1816\n",
      "\n",
      "    accuracy                           0.88      6554\n",
      "   macro avg       0.87      0.82      0.84      6554\n",
      "weighted avg       0.88      0.88      0.87      6554\n",
      "\n"
     ]
    },
    {
     "name": "stderr",
     "output_type": "stream",
     "text": [
      "C:\\Research\\GitHub\\udacity-data-engineering\\.venv\\Lib\\site-packages\\sklearn\\metrics\\_classification.py:1565: UndefinedMetricWarning: Precision is ill-defined and being set to 0.0 in labels with no predicted samples. Use `zero_division` parameter to control this behavior.\n",
      "  _warn_prf(average, modifier, f\"{metric.capitalize()} is\", len(result))\n",
      "C:\\Research\\GitHub\\udacity-data-engineering\\.venv\\Lib\\site-packages\\sklearn\\metrics\\_classification.py:1565: UndefinedMetricWarning: Precision is ill-defined and being set to 0.0 in labels with no predicted samples. Use `zero_division` parameter to control this behavior.\n",
      "  _warn_prf(average, modifier, f\"{metric.capitalize()} is\", len(result))\n",
      "C:\\Research\\GitHub\\udacity-data-engineering\\.venv\\Lib\\site-packages\\sklearn\\metrics\\_classification.py:1565: UndefinedMetricWarning: Precision is ill-defined and being set to 0.0 in labels with no predicted samples. Use `zero_division` parameter to control this behavior.\n",
      "  _warn_prf(average, modifier, f\"{metric.capitalize()} is\", len(result))\n"
     ]
    }
   ],
   "source": [
    "y_pred = pipeline.predict(X_test)\n",
    "y_pred_np = np.array(y_pred)\n",
    "y_test_np = y_test.values\n",
    "for i in range(y_pred_np.shape[1]):\n",
    "    print(classification_report(y_test_np[:,i], y_pred_np[:,i]))"
   ]
  },
  {
   "cell_type": "code",
   "execution_count": 7,
   "metadata": {},
   "outputs": [
    {
     "data": {
      "text/plain": [
       "dict_keys(['memory', 'steps', 'transform_input', 'verbose', 'features', 'clf', 'features__analyzer', 'features__binary', 'features__decode_error', 'features__dtype', 'features__encoding', 'features__input', 'features__lowercase', 'features__max_df', 'features__max_features', 'features__min_df', 'features__ngram_range', 'features__preprocessor', 'features__stop_words', 'features__strip_accents', 'features__token_pattern', 'features__tokenizer', 'features__vocabulary', 'clf__estimator__bootstrap', 'clf__estimator__ccp_alpha', 'clf__estimator__class_weight', 'clf__estimator__criterion', 'clf__estimator__max_depth', 'clf__estimator__max_features', 'clf__estimator__max_leaf_nodes', 'clf__estimator__max_samples', 'clf__estimator__min_impurity_decrease', 'clf__estimator__min_samples_leaf', 'clf__estimator__min_samples_split', 'clf__estimator__min_weight_fraction_leaf', 'clf__estimator__monotonic_cst', 'clf__estimator__n_estimators', 'clf__estimator__n_jobs', 'clf__estimator__oob_score', 'clf__estimator__random_state', 'clf__estimator__verbose', 'clf__estimator__warm_start', 'clf__estimator', 'clf__n_jobs'])"
      ]
     },
     "execution_count": 7,
     "metadata": {},
     "output_type": "execute_result"
    }
   ],
   "source": [
    "pipeline.get_params().keys()"
   ]
  },
  {
   "cell_type": "markdown",
   "metadata": {},
   "source": [
    "### 6. Improve your model\n",
    "Use grid search to find better parameters. "
   ]
  },
  {
   "cell_type": "code",
   "execution_count": 8,
   "metadata": {},
   "outputs": [],
   "source": [
    "pipeline_cv =  Pipeline([\n",
    "    ('features',CountVectorizer(tokenizer=tokenize)),\n",
    "    ('clf', MultiOutputClassifier(RandomForestClassifier()))\n",
    "])\n",
    "\n",
    "parameters = {\n",
    "        'features__ngram_range': ((1, 1), (1, 2)),\n",
    "        'clf__estimator__n_estimators': [10, 50, 100]\n",
    "    }\n",
    "cv = GridSearchCV(pipeline_cv,  param_grid=parameters)"
   ]
  },
  {
   "cell_type": "code",
   "execution_count": null,
   "metadata": {},
   "outputs": [
    {
     "name": "stderr",
     "output_type": "stream",
     "text": [
      "C:\\Research\\GitHub\\udacity-data-engineering\\.venv\\Lib\\site-packages\\sklearn\\feature_extraction\\text.py:517: UserWarning: The parameter 'token_pattern' will not be used since 'tokenizer' is not None'\n",
      "  warnings.warn(\n"
     ]
    }
   ],
   "source": [
    "with parallel_backend('threading', n_jobs=4):\n",
    "    cv.fit(X_train, y_train)"
   ]
  },
  {
   "cell_type": "code",
   "execution_count": null,
   "metadata": {},
   "outputs": [],
   "source": [
    "pickle.dump(cv, open('cv.pkl', 'wb'))"
   ]
  },
  {
   "cell_type": "markdown",
   "metadata": {},
   "source": [
    "### 7. Test your model\n",
    "Show the accuracy, precision, and recall of the tuned model.  \n",
    "\n",
    "Since this project focuses on code quality, process, and  pipelines, there is no minimum performance metric needed to pass. However, make sure to fine tune your models for accuracy, precision and recall to make your project stand out - especially for your portfolio!"
   ]
  },
  {
   "cell_type": "code",
   "execution_count": null,
   "metadata": {},
   "outputs": [],
   "source": [
    "y_pred_cv = cv.predict(X_test)\n",
    "y_pred_cv_np = np.array(y_pred_cv)\n",
    "for i in range(y_pred_np.shape[1]):\n",
    "    print(classification_report(y_test_np[:,i], y_pred_cv_np[:,i]))"
   ]
  },
  {
   "cell_type": "markdown",
   "metadata": {},
   "source": [
    "### 8. Try improving your model further. Here are a few ideas:\n",
    "* try other machine learning algorithms\n",
    "* add other features besides the TF-IDF"
   ]
  },
  {
   "cell_type": "code",
   "execution_count": null,
   "metadata": {},
   "outputs": [],
   "source": [
    "pipeline_updated =  Pipeline([\n",
    "    ('features',CountVectorizer(tokenizer=tokenize)),\n",
    "    ('tfidf', TfidfTransformer()),\n",
    "    ('clf', MultiOutputClassifier(RandomForestClassifier(n_estimators=50)))\n",
    "])"
   ]
  },
  {
   "cell_type": "code",
   "execution_count": null,
   "metadata": {},
   "outputs": [],
   "source": [
    "parameters = {\n",
    "        'features__ngram_range': ((1, 1), (1, 2)),\n",
    "        'clf__estimator__n_estimators': [10, 50, 100]\n",
    "    }\n",
    "cv_updated = GridSearchCV(pipeline_updated,  param_grid=parameters)"
   ]
  },
  {
   "cell_type": "code",
   "execution_count": null,
   "metadata": {},
   "outputs": [],
   "source": [
    "with parallel_backend('threading', n_jobs=4):\n",
    "    cv_updated.fit(X_train, y_train)"
   ]
  },
  {
   "cell_type": "code",
   "execution_count": null,
   "metadata": {},
   "outputs": [],
   "source": [
    "y_pred_pu = cv_updated.predict(X_test)\n",
    "y_pred_pu_np = np.array(y_pred_pu)\n",
    "for i in range(y_pred_np.shape[1]):\n",
    "    print(classification_report(y_test_np[:,i], y_pred_pu_np[:,i]))"
   ]
  },
  {
   "cell_type": "markdown",
   "metadata": {},
   "source": [
    "### 9. Export your model as a pickle file"
   ]
  },
  {
   "cell_type": "code",
   "execution_count": null,
   "metadata": {},
   "outputs": [],
   "source": [
    "pickle.dump(cv_updated, open('cv_updated.pkl', 'wb'))"
   ]
  },
  {
   "cell_type": "markdown",
   "metadata": {},
   "source": [
    "### 10. Use this notebook to complete `train_classifier.py`\n",
    "Use the template file attached in the Resources folder to write a script that runs the steps above to create a database and export a model based on a new dataset specified by the user."
   ]
  },
  {
   "cell_type": "code",
   "execution_count": null,
   "metadata": {},
   "outputs": [],
   "source": []
  }
 ],
 "metadata": {
  "kernelspec": {
   "display_name": "Python 3 (ipykernel)",
   "language": "python",
   "name": "python3"
  },
  "language_info": {
   "codemirror_mode": {
    "name": "ipython",
    "version": 3
   },
   "file_extension": ".py",
   "mimetype": "text/x-python",
   "name": "python",
   "nbconvert_exporter": "python",
   "pygments_lexer": "ipython3",
   "version": "3.11.9"
  }
 },
 "nbformat": 4,
 "nbformat_minor": 4
}
